{
 "cells": [
  {
   "cell_type": "code",
   "execution_count": null,
   "id": "42db539f-1ab4-4686-ad72-73bb272754a0",
   "metadata": {},
   "outputs": [],
   "source": [
    "!pip install -q mediapipe"
   ]
  },
  {
   "cell_type": "code",
   "execution_count": null,
   "id": "37c88681-8508-4531-93ea-1c84c68416cd",
   "metadata": {},
   "outputs": [],
   "source": [
    "pip install tensorflow"
   ]
  },
  {
   "cell_type": "code",
   "execution_count": null,
   "id": "a49c2bfe-35fe-4c5a-b5e4-e1937b904f28",
   "metadata": {},
   "outputs": [],
   "source": [
    "import cv2\n",
    "import numpy as np\n",
    "import os\n",
    "from matplotlib import pyplot as plt\n",
    "import time\n",
    "import mediapipe as mp\n",
    "from sklearn.model_selection import train_test_split\n",
    "from tensorflow.keras.utils import to_categorical"
   ]
  },
  {
   "cell_type": "code",
   "execution_count": null,
   "id": "0dde0163-a42e-4384-a933-f19500c91bbc",
   "metadata": {},
   "outputs": [],
   "source": [
    "actions=np.array(['hello','thanks','iloveyou','victory','father','mother','help','yes','no'])\n",
    "no_sequences=30\n",
    "sequence_length=30"
   ]
  },
  {
   "cell_type": "code",
   "execution_count": null,
   "id": "b17fac8a-640c-485a-8a57-a83930e0d70d",
   "metadata": {},
   "outputs": [],
   "source": [
    "label_map = {label:num for num, label in enumerate(actions)}"
   ]
  },
  {
   "cell_type": "code",
   "execution_count": null,
   "id": "37c0cf21-ec1d-40a6-a2ee-f891898ed638",
   "metadata": {},
   "outputs": [],
   "source": [
    "sequences, labels = [], []\n",
    "for action in actions:\n",
    "    for sequence in range(no_sequences):\n",
    "        window = []\n",
    "        for frame_num in range(sequence_length):\n",
    "            res = np.load(os.path.join(DATA_PATH, action, str(sequence), \"{}.npy\".format(frame_num)))\n",
    "            window.append(res)\n",
    "        sequences.append(window)\n",
    "        labels.append(label_map[action])"
   ]
  },
  {
   "cell_type": "code",
   "execution_count": null,
   "id": "75ea71cf-3ca9-4dba-8f9b-8bf21481563e",
   "metadata": {},
   "outputs": [],
   "source": [
    "X = np.array(sequences) "
   ]
  },
  {
   "cell_type": "code",
   "execution_count": null,
   "id": "7ba9cff1-7079-407d-b3c5-151d273b1018",
   "metadata": {},
   "outputs": [],
   "source": [
    "y = to_categorical(labels).astype(int)"
   ]
  },
  {
   "cell_type": "code",
   "execution_count": null,
   "id": "74c7341b-52bf-44a7-82a1-233809ee16f6",
   "metadata": {},
   "outputs": [],
   "source": [
    "X_train, X_test, y_train, y_test = train_test_split(X, y, test_size=0.1)"
   ]
  },
  {
   "cell_type": "code",
   "execution_count": null,
   "id": "a0c82741-0e2e-4ef8-aed8-e5fe0beabd31",
   "metadata": {},
   "outputs": [],
   "source": [
    "y_test.shape"
   ]
  },
  {
   "cell_type": "code",
   "execution_count": null,
   "id": "c9f43405-20c6-45ed-97d7-a3c11b011ed9",
   "metadata": {},
   "outputs": [],
   "source": [
    "from tensorflow.keras.models import Sequential\n",
    "from tensorflow.keras.layers import LSTM, Dense\n",
    "from tensorflow.keras.callbacks import TensorBoard\n",
    "from keras.callbacks import EarlyStopping\n",
    "from keras.layers import Dropout"
   ]
  },
  {
   "cell_type": "code",
   "execution_count": null,
   "id": "4a0e2962-49c0-42ec-b42e-51ca85a7cce7",
   "metadata": {},
   "outputs": [],
   "source": [
    "log_dir = os.path.join('Logs')\n",
    "tb_callback = TensorBoard(log_dir=log_dir)"
   ]
  },
  {
   "cell_type": "code",
   "execution_count": null,
   "id": "dd11702c-e3f3-490b-bbe5-c27ff0ff6bd3",
   "metadata": {},
   "outputs": [],
   "source": [
    "from keras.layers import Dense, Dropout, Flatten"
   ]
  },
  {
   "cell_type": "code",
   "execution_count": null,
   "id": "56728879-db3c-4e3d-b1ba-e013b4266127",
   "metadata": {},
   "outputs": [],
   "source": [
    "model = Sequential()\n",
    "model.add(Flatten(input_shape=(30,126)))\n",
    "model.add(Dense(64,  activation='relu'))\n",
    "model.add(Dropout(0.2)) # add dropout layer\n",
    "model.add(Dense(128,  activation='relu'))\n",
    "model.add(Dropout(0.2)) # add dropout layer\n",
    "model.add(Dense(64, activation='relu'))\n",
    "model.add(Dropout(0.2)) # add dropout layer\n",
    "model.add(Dense(64, activation='relu'))\n",
    "model.add(Dropout(0.2)) # add dropout layer\n",
    "model.add(Dense(32, activation='relu'))\n",
    "model.add(Dropout(0.2)) # add dropout layer\n",
    "model.add(Dense(9, activation='softmax'))"
   ]
  },
  {
   "cell_type": "code",
   "execution_count": null,
   "id": "f332c739-66a5-4886-836b-e2b214e10c4d",
   "metadata": {},
   "outputs": [],
   "source": [
    "model.compile(loss='categorical_crossentropy', optimizer='adam', metrics=['accuracy'])"
   ]
  },
  {
   "cell_type": "code",
   "execution_count": null,
   "id": "11ec319a-b885-4c9e-b719-2db237a3ca2f",
   "metadata": {},
   "outputs": [],
   "source": [
    "early_stopping = EarlyStopping(monitor='val_loss', patience=5, min_delta=0.001, mode='min', verbose=1)\n",
    "model.fit(X_train,y_train,epochs=500, batch_size=32,callbacks=[early_stopping],validation_data=(X_test, y_test))"
   ]
  },
  {
   "cell_type": "code",
   "execution_count": null,
   "id": "f6ca9e43-1584-4d84-9a9c-86514c3b645f",
   "metadata": {},
   "outputs": [],
   "source": [
    "model.summary()"
   ]
  },
  {
   "cell_type": "code",
   "execution_count": null,
   "id": "3ecd7e00-c39b-457d-a9c3-83799ed5c267",
   "metadata": {},
   "outputs": [],
   "source": [
    "model.save('actionmodel.h5') "
   ]
  },
  {
   "cell_type": "code",
   "execution_count": null,
   "id": "c9f6799e-ead2-4aac-8408-c25a72eb42e1",
   "metadata": {},
   "outputs": [],
   "source": [
    "model.load_weights('actionmodel.h5')"
   ]
  },
  {
   "cell_type": "code",
   "execution_count": null,
   "id": "bf0f42ef-2760-45ad-a63c-95da0437fb24",
   "metadata": {},
   "outputs": [],
   "source": [
    "loss, accuracy = model.evaluate(X_test, y_test)"
   ]
  }
 ],
 "metadata": {
  "kernelspec": {
   "display_name": "Python 3 (ipykernel)",
   "language": "python",
   "name": "python3"
  },
  "language_info": {
   "codemirror_mode": {
    "name": "ipython",
    "version": 3
   },
   "file_extension": ".py",
   "mimetype": "text/x-python",
   "name": "python",
   "nbconvert_exporter": "python",
   "pygments_lexer": "ipython3",
   "version": "3.11.7"
  }
 },
 "nbformat": 4,
 "nbformat_minor": 5
}
